{
 "cells": [
  {
   "cell_type": "code",
   "execution_count": 1,
   "id": "74dc11ba-8ebc-4c04-8781-f625d96bcf9b",
   "metadata": {},
   "outputs": [],
   "source": [
    "import pandas as pd "
   ]
  },
  {
   "cell_type": "code",
   "execution_count": 106,
   "id": "4600ebe9-ac2f-4089-bf89-367e8ced80da",
   "metadata": {},
   "outputs": [],
   "source": [
    "df_sales_details = pd.read_csv('2022-04-01T12_df_sales_detail.csv', parse_dates = ['date'])\n",
    "df_sales = pd.read_csv('2022-04-01T12_df_sales.csv', parse_dates = ['date'])\n",
    "df_web_logs = pd.read_csv('2022-04-01T12_df_web_logs.csv', parse_dates = ['date'])"
   ]
  },
  {
   "cell_type": "markdown",
   "id": "a9b55753-e5de-45b7-9275-36ef8669ad07",
   "metadata": {},
   "source": [
    "## Task 1"
   ]
  },
  {
   "cell_type": "markdown",
   "id": "b3c4c5e7-4216-4b2e-8f97-929e20469bed",
   "metadata": {},
   "source": [
    "Определите топ-3 товара по суммарной выручке. Для решения используйте данные из файла df_sales_details"
   ]
  },
  {
   "cell_type": "code",
   "execution_count": 14,
   "id": "5b52da41-eecb-4d18-850d-eb51925eb8fb",
   "metadata": {},
   "outputs": [
    {
     "data": {
      "text/html": [
       "<div>\n",
       "<style scoped>\n",
       "    .dataframe tbody tr th:only-of-type {\n",
       "        vertical-align: middle;\n",
       "    }\n",
       "\n",
       "    .dataframe tbody tr th {\n",
       "        vertical-align: top;\n",
       "    }\n",
       "\n",
       "    .dataframe thead th {\n",
       "        text-align: right;\n",
       "    }\n",
       "</style>\n",
       "<table border=\"1\" class=\"dataframe\">\n",
       "  <thead>\n",
       "    <tr style=\"text-align: right;\">\n",
       "      <th></th>\n",
       "      <th>good</th>\n",
       "      <th>total_price</th>\n",
       "    </tr>\n",
       "  </thead>\n",
       "  <tbody>\n",
       "    <tr>\n",
       "      <th>3</th>\n",
       "      <td>chefs pizza</td>\n",
       "      <td>24558240</td>\n",
       "    </tr>\n",
       "    <tr>\n",
       "      <th>6</th>\n",
       "      <td>double pepperoni pizza</td>\n",
       "      <td>22558380</td>\n",
       "    </tr>\n",
       "    <tr>\n",
       "      <th>5</th>\n",
       "      <td>chicken bbq pizza</td>\n",
       "      <td>17622540</td>\n",
       "    </tr>\n",
       "  </tbody>\n",
       "</table>\n",
       "</div>"
      ],
      "text/plain": [
       "                     good  total_price\n",
       "3             chefs pizza     24558240\n",
       "6  double pepperoni pizza     22558380\n",
       "5       chicken bbq pizza     17622540"
      ]
     },
     "execution_count": 14,
     "metadata": {},
     "output_type": "execute_result"
    }
   ],
   "source": [
    "(\n",
    "    df_sales_details\n",
    "    .groupby('good', as_index=False)\n",
    "    .aggregate(total_price = ('price', 'sum'))\n",
    "    .sort_values('total_price', ascending=False)\n",
    "    .head(3)\n",
    ")"
   ]
  },
  {
   "cell_type": "markdown",
   "id": "e70a7f0e-5494-446a-b39e-e32fe91b3fd4",
   "metadata": {},
   "source": [
    "## Task 2"
   ]
  },
  {
   "cell_type": "markdown",
   "id": "aeddac99-51bb-4273-958f-b128537edd16",
   "metadata": {},
   "source": [
    "Оцените средний срок, который проходит от захода пользователя на сайт до совершения покупки."
   ]
  },
  {
   "cell_type": "code",
   "execution_count": 153,
   "id": "3193ddc2-e4a2-4d4a-a80e-4ad6e4986edc",
   "metadata": {},
   "outputs": [
    {
     "data": {
      "text/plain": [
       "Timedelta('0 days 00:16:30.281660512')"
      ]
     },
     "execution_count": 153,
     "metadata": {},
     "output_type": "execute_result"
    }
   ],
   "source": [
    "first_event_by_user = (\n",
    "    df_web_logs\n",
    "    .assign(time = df_web_logs.date.dt.date)\n",
    "    .groupby(['user_id', 'time'], as_index=False)\n",
    "    .agg(first_event = ('date', 'min'))\n",
    ")\n",
    "\n",
    "purchase_by_user = (\n",
    "    df_sales\n",
    "    .assign(time = df_sales.date.dt.date)\n",
    "    .groupby(['user_id', 'time'], as_index=False)\n",
    "    .agg(sales_event = ('date', 'min'))\n",
    ")\n",
    "\n",
    "(\n",
    "    first_event_by_user\n",
    "    .merge(purchase_by_user, how='left', left_on=['user_id', 'time'], right_on=['user_id', 'time'])\n",
    "    .assign(time_diff = lambda x: (x.sales_event - x.first_event),\n",
    "            hour_differenece = lambda x: (x.sales_event - x.first_event).astype('timedelta64[h]')\n",
    "    )\n",
    "    .query(\"hour_differenece < 2\")\n",
    "    .time_diff.mean()\n",
    ")"
   ]
  },
  {
   "cell_type": "markdown",
   "id": "4c8b8f9a-738d-4606-bccd-42a336c4dae9",
   "metadata": {},
   "source": [
    "## Task 3"
   ]
  },
  {
   "cell_type": "markdown",
   "id": "29c4766f-2bb8-40b2-b798-fdd84472035c",
   "metadata": {},
   "source": [
    "Какая доля пользователей, совершивших покупку в феврале, совершила покупку и в марте?"
   ]
  },
  {
   "cell_type": "code",
   "execution_count": 179,
   "id": "0dc97829-3516-43d4-9cb2-83de4895b865",
   "metadata": {},
   "outputs": [],
   "source": [
    "users_fp = (\n",
    "    df_sales\n",
    "    .groupby('user_id', as_index=False)\n",
    "    .agg(fp = ('date', 'min'))\n",
    "    .assign(cohort = lambda x: x.fp.dt.to_period('M'))\n",
    ")\n",
    "\n",
    "add_fp_info = (\n",
    "    df_sales\n",
    "    .merge(\n",
    "        users_fp, \n",
    "        how = 'left',\n",
    "        left_on = 'user_id',\n",
    "        right_on = 'user_id'\n",
    "    )\n",
    "    .assign(\n",
    "        month = lambda x: x.date.dt.to_period('M'),\n",
    "        month_index = lambda x: 'M' + (x.month.astype('int') - x.cohort.astype('int')).astype('str')\n",
    "    )\n",
    "    .groupby(['cohort', 'month_index'], as_index=False)\n",
    "    .agg(users = ('user_id', 'nunique'))\n",
    "    .pivot(columns = 'month_index', index = 'cohort', values = 'users')\n",
    "    .reset_index()\n",
    ")"
   ]
  },
  {
   "cell_type": "code",
   "execution_count": 186,
   "id": "f4696baa-7577-444e-9ff5-56473e65d566",
   "metadata": {},
   "outputs": [
    {
     "data": {
      "text/html": [
       "<div>\n",
       "<style scoped>\n",
       "    .dataframe tbody tr th:only-of-type {\n",
       "        vertical-align: middle;\n",
       "    }\n",
       "\n",
       "    .dataframe tbody tr th {\n",
       "        vertical-align: top;\n",
       "    }\n",
       "\n",
       "    .dataframe thead th {\n",
       "        text-align: right;\n",
       "    }\n",
       "</style>\n",
       "<table border=\"1\" class=\"dataframe\">\n",
       "  <thead>\n",
       "    <tr style=\"text-align: right;\">\n",
       "      <th>month_index</th>\n",
       "      <th>cohort</th>\n",
       "      <th>M0</th>\n",
       "      <th>M1</th>\n",
       "      <th>M2</th>\n",
       "    </tr>\n",
       "  </thead>\n",
       "  <tbody>\n",
       "    <tr>\n",
       "      <th>0</th>\n",
       "      <td>2022-02</td>\n",
       "      <td>1.0</td>\n",
       "      <td>0.658</td>\n",
       "      <td>0.004</td>\n",
       "    </tr>\n",
       "    <tr>\n",
       "      <th>1</th>\n",
       "      <td>2022-03</td>\n",
       "      <td>1.0</td>\n",
       "      <td>0.004</td>\n",
       "      <td>NaN</td>\n",
       "    </tr>\n",
       "    <tr>\n",
       "      <th>2</th>\n",
       "      <td>2022-04</td>\n",
       "      <td>1.0</td>\n",
       "      <td>NaN</td>\n",
       "      <td>NaN</td>\n",
       "    </tr>\n",
       "  </tbody>\n",
       "</table>\n",
       "</div>"
      ],
      "text/plain": [
       "month_index   cohort   M0     M1     M2\n",
       "0            2022-02  1.0  0.658  0.004\n",
       "1            2022-03  1.0  0.004    NaN\n",
       "2            2022-04  1.0    NaN    NaN"
      ]
     },
     "execution_count": 186,
     "metadata": {},
     "output_type": "execute_result"
    }
   ],
   "source": [
    "(\n",
    "    add_fp_info\n",
    "    .assign(\n",
    "        M0 = add_fp_info.M0 / add_fp_info.M0,\n",
    "        M1 = round(add_fp_info.M1 / add_fp_info.M0, 3),\n",
    "        M2 = round(add_fp_info.M2 / add_fp_info.M0, 3)\n",
    "    )\n",
    ")"
   ]
  }
 ],
 "metadata": {
  "kernelspec": {
   "display_name": "Python 3 (ipykernel)",
   "language": "python",
   "name": "python3"
  },
  "language_info": {
   "codemirror_mode": {
    "name": "ipython",
    "version": 3
   },
   "file_extension": ".py",
   "mimetype": "text/x-python",
   "name": "python",
   "nbconvert_exporter": "python",
   "pygments_lexer": "ipython3",
   "version": "3.9.6"
  }
 },
 "nbformat": 4,
 "nbformat_minor": 5
}
