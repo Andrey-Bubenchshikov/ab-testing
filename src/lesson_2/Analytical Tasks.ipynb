{
 "cells": [
  {
   "cell_type": "code",
   "execution_count": 1,
   "id": "4f2b9217-97de-45a4-81dc-dac831b74ff2",
   "metadata": {},
   "outputs": [],
   "source": [
    "import pandas as pd \n",
    "import numpy as np\n",
    "import scipy.stats as stats"
   ]
  },
  {
   "cell_type": "code",
   "execution_count": 13,
   "id": "92b295b6-96ef-4414-8301-6896001d4641",
   "metadata": {},
   "outputs": [],
   "source": [
    "df_sales = pd.read_csv('2022-04-01T12_df_sales.csv', parse_dates = ['date']).sort_values('date')\n",
    "df_users = pd.read_csv('experiment_users.csv')\n",
    "\n"
   ]
  },
  {
   "cell_type": "markdown",
   "id": "873dc9b8-eb79-4bc2-bab8-93430510ac69",
   "metadata": {},
   "source": [
    "## Task 1"
   ]
  },
  {
   "cell_type": "code",
   "execution_count": 20,
   "id": "eff64b63-63b5-4d30-80eb-d028bcabe201",
   "metadata": {},
   "outputs": [
    {
     "data": {
      "text/plain": [
       "Ttest_indResult(statistic=-1.2837567415000515, pvalue=0.19923983306424942)"
      ]
     },
     "execution_count": 20,
     "metadata": {},
     "output_type": "execute_result"
    }
   ],
   "source": [
    "df_metrics = (\n",
    "    df_sales\n",
    "    .query(\"date >= '2022-03-16' & date < '2022-03-23'\")\n",
    "    .groupby('user_id', as_index=False)\n",
    "    .agg(revenue = ('price', 'sum'))\n",
    ")\n",
    "\n",
    "df = pd.merge(df_users, df_metrics, on='user_id', how='left').fillna(0)\n",
    "\n",
    "data_control = df[df['pilot'] == 0]['revenue']\n",
    "data_pilot = df[df['pilot'] == 1]['revenue']\n",
    "stats.ttest_ind(data_control, data_pilot)\n",
    "\n"
   ]
  },
  {
   "cell_type": "markdown",
   "id": "e7a87ebc-bae5-4f61-9106-aa372c8f838a",
   "metadata": {},
   "source": [
    "## Task 2"
   ]
  },
  {
   "cell_type": "markdown",
   "id": "c3c6c1bc-3d73-40c3-a52b-fbe25ff3e3e6",
   "metadata": {},
   "source": [
    "Оцените среднее время между покупками. Возьмите всех клиентов, у которых 2 и более покупок. \n",
    "\n",
    "Вычислите время между покупками (для клиента с N покупками должно получиться N-1 значения времени). \n",
    "\n",
    "Объедините значения всех клиентов и вычислите среднее."
   ]
  },
  {
   "cell_type": "code",
   "execution_count": 9,
   "id": "fe33b43a-3d52-4134-b2e4-c56067a08bd1",
   "metadata": {},
   "outputs": [
    {
     "data": {
      "text/plain": [
       "Timedelta('17 days 07:37:57.653431857')"
      ]
     },
     "execution_count": 9,
     "metadata": {},
     "output_type": "execute_result"
    }
   ],
   "source": [
    "users_wth_orders = (\n",
    "    df_sales\n",
    "    .groupby('user_id', as_index=False)\n",
    "    .agg(n_orders = ('sale_id', 'nunique'))\n",
    "    .query(\"n_orders >= 2\")\n",
    "    .user_id\n",
    ")\n",
    "\n",
    "(\n",
    "    df_sales\n",
    "    .query(\"user_id in @users_wth_orders\")\n",
    "    .assign(\n",
    "        diff_dt = (\n",
    "            df_sales.query(\"user_id in @users_wth_orders\").groupby('user_id').diff().date\n",
    "        )\n",
    "    )\n",
    "    .diff_dt.mean()\n",
    ")\n"
   ]
  },
  {
   "cell_type": "markdown",
   "id": "a4a5c038-4d57-4225-8070-dc192d3a66d7",
   "metadata": {},
   "source": [
    "## Task 3"
   ]
  },
  {
   "cell_type": "code",
   "execution_count": 11,
   "id": "cb1ccb96-b4c1-47b1-af56-d94abb7c12b3",
   "metadata": {},
   "outputs": [
    {
     "data": {
      "text/plain": [
       "User(login='winner2003', subscribed=False, age=22)"
      ]
     },
     "execution_count": 11,
     "metadata": {},
     "output_type": "execute_result"
    }
   ],
   "source": [
    "from pydantic import BaseModel\n",
    "\n",
    "class User(BaseModel):\n",
    "    login: str\n",
    "    subscribed: bool = False\n",
    "    age: int\n",
    "\n",
    "user = User(login='winner2003', age='22', city='Moscow')\n",
    "user"
   ]
  },
  {
   "cell_type": "markdown",
   "id": "c4e4e4f2-a6ef-4894-8209-3e858a55326a",
   "metadata": {},
   "source": [
    "## Task 4"
   ]
  },
  {
   "cell_type": "code",
   "execution_count": 12,
   "id": "1d7c7670-2823-41df-bc00-552e062c159e",
   "metadata": {},
   "outputs": [
    {
     "name": "stdout",
     "output_type": "stream",
     "text": [
      "simple test passed\n"
     ]
    }
   ],
   "source": [
    "import numpy as np\n",
    "from pydantic import BaseModel\n",
    "from scipy import stats\n",
    "\n",
    "\n",
    "class Design(BaseModel):\n",
    "    \"\"\"Дата-класс с описание параметров эксперимента.\"\"\"\n",
    "    statistical_test: str\n",
    "\n",
    "\n",
    "class ExperimentsService:\n",
    "\n",
    "    def get_pvalue(self, metrics_a_group, metrics_b_group, design):\n",
    "        \"\"\"Применяет статтест, возвращает pvalue.\n",
    "\n",
    "        :param metrics_a_group (np.array): массив значений метрик группы A\n",
    "        :param metrics_a_group (np.array): массив значений метрик группы B\n",
    "        :param design (Design): объект с данными, описывающий параметры эксперимента\n",
    "        :return (float): значение p-value\n",
    "        \"\"\"\n",
    "        if design.statistical_test == 'ttest':\n",
    "            p_value = stats.ttest_ind(metrics_a_group, metrics_b_group, equal_var=False).pvalue\n",
    "            return p_value\n",
    "        else:\n",
    "            raise ValueError('Неверный design.statistical_test')\n",
    "\n",
    "\n",
    "if __name__ == '__main__':\n",
    "    metrics_a_group = np.array([964, 1123, 962, 1213, 914, 906, 951, 1033, 987, 1082])\n",
    "    metrics_b_group = np.array([952, 1064, 1091, 1079, 1158, 921, 1161, 1064, 819, 1065])\n",
    "    design = Design(statistical_test='ttest')\n",
    "    ideal_pvalue = 0.612219\n",
    "\n",
    "    experiments_service = ExperimentsService()\n",
    "    pvalue = experiments_service.get_pvalue(metrics_a_group, metrics_b_group, design)\n",
    "    np.testing.assert_almost_equal(ideal_pvalue, pvalue, decimal=4)\n",
    "    print('simple test passed')"
   ]
  },
  {
   "cell_type": "code",
   "execution_count": null,
   "id": "feff8419-a2cb-4791-809d-24a548638650",
   "metadata": {},
   "outputs": [],
   "source": []
  }
 ],
 "metadata": {
  "kernelspec": {
   "display_name": "Python 3 (ipykernel)",
   "language": "python",
   "name": "python3"
  },
  "language_info": {
   "codemirror_mode": {
    "name": "ipython",
    "version": 3
   },
   "file_extension": ".py",
   "mimetype": "text/x-python",
   "name": "python",
   "nbconvert_exporter": "python",
   "pygments_lexer": "ipython3",
   "version": "3.9.6"
  }
 },
 "nbformat": 4,
 "nbformat_minor": 5
}
