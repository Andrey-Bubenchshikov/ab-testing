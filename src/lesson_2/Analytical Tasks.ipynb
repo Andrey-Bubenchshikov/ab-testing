{
 "cells": [
  {
   "cell_type": "code",
   "execution_count": 26,
   "id": "4f2b9217-97de-45a4-81dc-dac831b74ff2",
   "metadata": {},
   "outputs": [],
   "source": [
    "import pandas as pd \n",
    "import numpy as np\n",
    "import scipy.stats as stats"
   ]
  },
  {
   "cell_type": "code",
   "execution_count": 3,
   "id": "92b295b6-96ef-4414-8301-6896001d4641",
   "metadata": {},
   "outputs": [],
   "source": [
    "df_sales = pd.read_csv('2022-04-01T12_df_sales.csv', parse_dates = ['date'])\n",
    "df_experiment = pd.read_csv('experiment_users.csv')"
   ]
  },
  {
   "cell_type": "markdown",
   "id": "873dc9b8-eb79-4bc2-bab8-93430510ac69",
   "metadata": {},
   "source": [
    "## Task 1"
   ]
  },
  {
   "cell_type": "code",
   "execution_count": 34,
   "id": "eff64b63-63b5-4d30-80eb-d028bcabe201",
   "metadata": {},
   "outputs": [
    {
     "data": {
      "text/html": [
       "<div>\n",
       "<style scoped>\n",
       "    .dataframe tbody tr th:only-of-type {\n",
       "        vertical-align: middle;\n",
       "    }\n",
       "\n",
       "    .dataframe tbody tr th {\n",
       "        vertical-align: top;\n",
       "    }\n",
       "\n",
       "    .dataframe thead th {\n",
       "        text-align: right;\n",
       "    }\n",
       "</style>\n",
       "<table border=\"1\" class=\"dataframe\">\n",
       "  <thead>\n",
       "    <tr style=\"text-align: right;\">\n",
       "      <th></th>\n",
       "      <th>group</th>\n",
       "      <th>avg_revenue</th>\n",
       "      <th>stg</th>\n",
       "    </tr>\n",
       "  </thead>\n",
       "  <tbody>\n",
       "    <tr>\n",
       "      <th>0</th>\n",
       "      <td>after</td>\n",
       "      <td>1251.512401</td>\n",
       "      <td>843.678374</td>\n",
       "    </tr>\n",
       "    <tr>\n",
       "      <th>1</th>\n",
       "      <td>before</td>\n",
       "      <td>1258.554642</td>\n",
       "      <td>852.817102</td>\n",
       "    </tr>\n",
       "  </tbody>\n",
       "</table>\n",
       "</div>"
      ],
      "text/plain": [
       "    group  avg_revenue         stg\n",
       "0   after  1251.512401  843.678374\n",
       "1  before  1258.554642  852.817102"
      ]
     },
     "execution_count": 34,
     "metadata": {},
     "output_type": "execute_result"
    }
   ],
   "source": [
    "df_metrics = (\n",
    "    df_sales\n",
    "    .query(\"date >= '2022-03-16' & date < '2022-03-31'\")\n",
    "    .query(\"user_id in @df_experiment.query('pilot == 1').user_id\")\n",
    "    .assign(group = lambda x: np.where(x.date < '2022-03-24', 'before', 'after'))\n",
    "    .groupby(['group', 'user_id'], as_index=False)\n",
    "    .agg(revenue = ('price', 'sum'))\n",
    ")\n",
    "\n",
    "(\n",
    "    df_metrics\n",
    "    .groupby('group', as_index=False)\n",
    "    .agg(\n",
    "        avg_revenue = ('revenue', 'mean'),\n",
    "        stg = ('revenue', 'std')\n",
    "    )\n",
    ")"
   ]
  },
  {
   "cell_type": "code",
   "execution_count": 36,
   "id": "989acf93-ccc9-4f05-8a5a-462b83e05e41",
   "metadata": {},
   "outputs": [
    {
     "data": {
      "text/plain": [
       "Ttest_indResult(statistic=0.3632346526454707, pvalue=0.7164474603058774)"
      ]
     },
     "execution_count": 36,
     "metadata": {},
     "output_type": "execute_result"
    }
   ],
   "source": [
    "before = df_metrics.query(\"group == 'before'\").revenue\n",
    "after = df_metrics.query(\"group == 'after'\").revenue\n",
    "\n",
    "stats.ttest_ind(before, after, equal_var=False)"
   ]
  },
  {
   "cell_type": "markdown",
   "id": "e7a87ebc-bae5-4f61-9106-aa372c8f838a",
   "metadata": {},
   "source": [
    "## Task 2"
   ]
  },
  {
   "cell_type": "code",
   "execution_count": null,
   "id": "5cd0a003-c82a-44e2-8b90-f27daf65e187",
   "metadata": {},
   "outputs": [],
   "source": []
  }
 ],
 "metadata": {
  "kernelspec": {
   "display_name": "Python 3 (ipykernel)",
   "language": "python",
   "name": "python3"
  },
  "language_info": {
   "codemirror_mode": {
    "name": "ipython",
    "version": 3
   },
   "file_extension": ".py",
   "mimetype": "text/x-python",
   "name": "python",
   "nbconvert_exporter": "python",
   "pygments_lexer": "ipython3",
   "version": "3.9.6"
  }
 },
 "nbformat": 4,
 "nbformat_minor": 5
}
