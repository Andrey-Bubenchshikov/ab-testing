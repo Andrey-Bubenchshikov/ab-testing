{
 "cells": [
  {
   "cell_type": "code",
   "execution_count": 7,
   "id": "b370b8e1-6c5c-4f07-8a5f-3930a0eb34f8",
   "metadata": {},
   "outputs": [],
   "source": [
    "import pandas as pd \n",
    "import numpy as np\n",
    "from scipy.stats import norm, ttest_ind\n",
    "from datetime import datetime"
   ]
  },
  {
   "cell_type": "code",
   "execution_count": 9,
   "id": "aeb032f3-42fb-4388-a9fe-1a52edccc098",
   "metadata": {},
   "outputs": [],
   "source": [
    "def get_sample_size_abs(epsilon, std, alpha=0.05, beta=0.2):\n",
    "    t_alpha = norm.ppf(1 - alpha / 2, loc=0, scale=1)\n",
    "    t_beta = norm.ppf(1 - beta, loc=0, scale=1)\n",
    "    z_scores_sum_squared = (t_alpha + t_beta) ** 2\n",
    "    sample_size = int(\n",
    "        np.ceil(\n",
    "            z_scores_sum_squared * (2 * std ** 2) / (epsilon ** 2)\n",
    "        )\n",
    "    )\n",
    "    return sample_size\n",
    "\n",
    "def get_sample_size_arb(mu, std, eff=1.01, alpha=0.05, beta=0.2):\n",
    "    epsilon = (eff - 1) * mu\n",
    "\n",
    "    return get_sample_size_abs(epsilon, std=std, alpha=alpha, beta=beta)\n",
    "\n",
    "def check_ttest(a, b, alpha=0.05):\n",
    "    \"\"\"Тест Стьюдента. Возвращает 1, если отличия значимы.\"\"\"\n",
    "    _, pvalue = ttest_ind(a, b)\n",
    "    return int(pvalue < alpha)\n",
    "\n",
    "def get_minimal_determinable_effect(std, sample_size, alpha=0.05, beta=0.2):\n",
    "    t_alpha = norm.ppf(1 - alpha / 2, loc=0, scale=1)\n",
    "    t_beta = norm.ppf(1 - beta, loc=0, scale=1)\n",
    "    disp_sum_sqrt = (2 * (std ** 2)) ** 0.5\n",
    "    mde = (t_alpha + t_beta) * disp_sum_sqrt / np.sqrt(sample_size)\n",
    "    return mde"
   ]
  },
  {
   "cell_type": "code",
   "execution_count": 41,
   "id": "55b79794-6bfc-4a4a-a6de-cd3f5a58aa86",
   "metadata": {},
   "outputs": [
    {
     "data": {
      "text/plain": [
       "(203847, 6)"
      ]
     },
     "execution_count": 41,
     "metadata": {},
     "output_type": "execute_result"
    }
   ],
   "source": [
    "df_sales = pd.read_csv('2022-04-01T12_df_sales.csv', parse_dates = ['date']).sort_values('date')\n",
    "df_sales.shape"
   ]
  },
  {
   "cell_type": "markdown",
   "id": "cecf001b-20ed-4bb0-a8f1-697e240b6b34",
   "metadata": {},
   "source": [
    "## Task 1"
   ]
  },
  {
   "cell_type": "code",
   "execution_count": 42,
   "id": "b3709a6b-fb5a-4e56-bc54-a66483b54453",
   "metadata": {},
   "outputs": [],
   "source": [
    "df_experiment = df_sales[(df_sales['date'] >= datetime(2022, 2, 21)) & (df_sales['date'] < datetime(2022, 2, 28))]\n",
    "df_desc_stat = (\n",
    "    df_experiment\n",
    "    .price.std()\n",
    "    .groupby('user_id', as_index=False)\n",
    "    .agg(sum_price = ('price', 'sum'))\n",
    "    .agg(\n",
    "        avg = ('sum_price', 'mean'), \n",
    "        std = ('sum_price', 'std')\n",
    "    )\n",
    ")"
   ]
  },
  {
   "cell_type": "code",
   "execution_count": 43,
   "id": "1fc1bdcb-4042-4f0e-8654-7ff5a5ac78b9",
   "metadata": {},
   "outputs": [
    {
     "data": {
      "text/plain": [
       "32220"
      ]
     },
     "execution_count": 55,
     "metadata": {},
     "output_type": "execute_result"
    }
   ],
   "source": [
    "round(get_sample_size_abs(20, df_desc_stat.sum_price[1], alpha=0.05, beta=0.1), -1)"
   ]
  },
  {
   "cell_type": "code",
   "execution_count": 44,
   "id": "68948f5a-b765-417d-93fb-b366e6495d36",
   "metadata": {},
   "outputs": [
    {
     "data": {
      "text/plain": [
       "32220"
      ]
     },
     "execution_count": 57,
     "metadata": {},
     "output_type": "execute_result"
    }
   ],
   "source": [
    "round(\n",
    "    get_sample_size_arb(\n",
    "        df_desc_stat.sum_price[0], \n",
    "        df_desc_stat.sum_price[1], \n",
    "        eff=1+(20/df_desc_stat.sum_price[0]), \n",
    "        alpha=0.05, \n",
    "        beta=0.1\n",
    "    ),\n",
    "    -1\n",
    ")"
   ]
  },
  {
   "cell_type": "markdown",
   "id": "bec0a302-9b3b-46ca-9146-e0a4c46eccca",
   "metadata": {},
   "source": [
    "## Task 2"
   ]
  },
  {
   "cell_type": "code",
   "execution_count": 46,
   "id": "7d49977f-70e1-46a5-aadf-53b7ef06e042",
   "metadata": {},
   "outputs": [
    {
     "data": {
      "text/plain": [
       "11.245729077695874"
      ]
     },
     "execution_count": 59,
     "metadata": {},
     "output_type": "execute_result"
    }
   ],
   "source": [
    "get_minimal_determinable_effect(std=df_desc_stat.sum_price[1], sample_size=203847//2, alpha=0.05, beta=0.1)"
   ]
  },
  {
   "cell_type": "code",
   "execution_count": null,
   "id": "42f9e1f0-4375-4701-a909-67a269d77ccc",
   "metadata": {},
   "outputs": [],
   "source": []
  }
 ],
 "metadata": {
  "kernelspec": {
   "display_name": "Python 3 (ipykernel)",
   "language": "python",
   "name": "python3"
  },
  "language_info": {
   "codemirror_mode": {
    "name": "ipython",
    "version": 3
   },
   "file_extension": ".py",
   "mimetype": "text/x-python",
   "name": "python",
   "nbconvert_exporter": "python",
   "pygments_lexer": "ipython3",
   "version": "3.9.6"
  }
 },
 "nbformat": 4,
 "nbformat_minor": 5
}
